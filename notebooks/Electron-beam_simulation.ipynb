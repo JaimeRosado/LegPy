{
 "cells": [
  {
   "cell_type": "markdown",
   "metadata": {
    "id": "z3LOpluQhNkM"
   },
   "source": [
    "# LegPy for a beam of electrons"
   ]
  },
  {
   "cell_type": "markdown",
   "metadata": {
    "id": "GBwnegUHapmU"
   },
   "source": [
    "This notebook is intended to assist the user of LegPy in the simulation of an **electron beam**  "
   ]
  },
  {
   "cell_type": "markdown",
   "metadata": {
    "id": "z3LOpluQhNkM"
   },
   "source": [
    "# LegPy\n",
    "\n",
    "#### Fernando Arqueros, Jaime Rosado, Victor Moya\n"
   ]
  },
  {
   "cell_type": "markdown",
   "metadata": {
    "id": "GBwnegUHapmU"
   },
   "source": [
    "LegPy (Low energy gamma-ray simulation in Python) is a Monte Carlo simulation code for the transportion of gamma rays and electrons with energies below (or about) a few MeVs through any medium. In this notebook only electron beams are considered.\n",
    "\n",
    "Several geometries are supported (cylinder, orthohedron and sphere). Electrons are produced as paralell beams or from isotropic sources with energies following several spectral distributions (monoenergetic, flat, exponential, etc.)."
   ]
  },
  {
   "cell_type": "markdown",
   "metadata": {
    "id": "maXNyDYLbqUo"
   },
   "source": [
    "## Previous steps"
   ]
  },
  {
   "cell_type": "markdown",
   "metadata": {},
   "source": [
    "Import modules"
   ]
  },
  {
   "cell_type": "code",
   "execution_count": null,
   "metadata": {},
   "outputs": [],
   "source": [
    "import LegPy as lpy\n",
    "import numpy as np\n",
    "import matplotlib.pyplot as plt"
   ]
  },
  {
   "cell_type": "markdown",
   "metadata": {
    "id": "_G_eNS8bt1nK"
   },
   "source": [
    "The user has to \"construct\" four objects that are the main ingredients of the MC simulation: \n",
    "\n",
    "- The composition of the medium and their physical properties at microscopic level.\n",
    "- The geometry of the medium.\n",
    "- The energy spectrum of the electron beam crossing the medium.\n",
    "- The geometry of the beam.\n",
    "\n",
    "Let's start."
   ]
  },
  {
   "cell_type": "markdown",
   "metadata": {
    "id": "W5mjzSpmhNkO"
   },
   "source": [
    "## Construction of the medium I: Composition"
   ]
  },
  {
   "cell_type": "markdown",
   "metadata": {
    "id": "piCc52MuALhl"
   },
   "source": [
    "The user has to give data on attenuation coefficients of the medium.\n",
    "\n",
    "Two options named here **NIST** and **generic** are available. Select and run only the one you choose.\n",
    "\n",
    "\n"
   ]
  },
  {
   "cell_type": "markdown",
   "metadata": {
    "id": "DKWKlYh1YMYS"
   },
   "source": [
    "### NIST"
   ]
  },
  {
   "cell_type": "markdown",
   "metadata": {
    "id": "UT0RECdFXtFn"
   },
   "source": [
    "Data from the National Institute of Standards and Technology of accurate CSDA ranges are available in the LegPy/electron_data folder. The user has to provide a medium name among them."
   ]
  },
  {
   "cell_type": "code",
   "execution_count": null,
   "metadata": {},
   "outputs": [],
   "source": [
    "!ls LegPy/electron_data/*.txt"
   ]
  },
  {
   "cell_type": "markdown",
   "metadata": {
    "id": "3RdovAuXnNWb"
   },
   "source": [
    "Now you can construct the medium providing the following data:\n",
    "\n",
    "- name: 'Al', 'Bone', 'Ge', 'NaI', 'Pb', 'Water'...\n",
    "- density (g/cm^3): Optional. Default value is stored in file."
   ]
  },
  {
   "cell_type": "code",
   "execution_count": null,
   "metadata": {
    "id": "M3OaMFC4A31p"
   },
   "outputs": [],
   "source": [
    "medium = lpy.Medium(name='water')\n",
    "#medium = lpy.Medium(name='Pb')\n",
    "#medium = lpy.Medium(name='Al', density=2.7)\n",
    "#medium = lpy.Medium(name='bone_compact_ICRU', density=1.8)"
   ]
  },
  {
   "cell_type": "markdown",
   "metadata": {
    "id": "EebUrwwJaavW"
   },
   "source": [
    "### generic"
   ]
  },
  {
   "cell_type": "markdown",
   "metadata": {
    "id": "GlYEfYFgykyZ"
   },
   "source": [
    "In the absence of a data file, a generic procedure that evaluates the CSDA range from the Bethe-Bloch formula is used."
   ]
  },
  {
   "cell_type": "markdown",
   "metadata": {
    "id": "cbTApQpEaCsc"
   },
   "source": [
    "Now you can construct the medium providing the following data:\n",
    "\n",
    "- name : only for id. purposes.\n",
    "- density (g/cm^3).\n",
    "- Pmol : molecular weight. Not needed if atomic masses are given.\n",
    "- N : number of atoms of each type.\n",
    "- Z : corresponding Z values.\n",
    "- A : corresponding mass numbers.\n",
    "- I (eV): corresponding Bethe parameters.\n",
    "- e_E_min (MeV): minimun electron energy considered. Default to 0.01 MeV.\n",
    "- e_E_max (MeV): maximum electron energy considered. Default to 1.25 MeV."
   ]
  },
  {
   "cell_type": "code",
   "execution_count": null,
   "metadata": {
    "id": "pRRJI6ZgZU-F"
   },
   "outputs": [],
   "source": [
    "medium2 = lpy.Medium(name='water', density=1., Pmol=18.01, Z=[1,8], N=[2,1], A=[1,16], I=[19.2,95.], e_E_max = 20.)"
   ]
  },
  {
   "cell_type": "markdown",
   "metadata": {
    "id": "xi3S1RIYbqz1"
   },
   "source": [
    "## Plot CSDA range vs E (to be implemented)"
   ]
  },
  {
   "cell_type": "markdown",
   "metadata": {
    "id": "gHrluL3cb-o1"
   },
   "source": [
    "Next you can plot the continuous slowing down approximation (CSDA) range vs energy of the medium. In the next command you have to provide: \n",
    "\n",
    "- energies : array of energies in MeV, better in log scale.\n",
    "- l_style : line style for plotting ('', ':', etc.), defalut '' (solid line).\n",
    "- units : 'cm' or 'gcm2'. Default is 'cm'. \n",
    "\n",
    "Several media can be plotted in the same figure so you can define several media above (with different names) and compare ranges (in the same units). Also you can compare NIST with generic models for the same medium.\n",
    "\n",
    "This step is optional so you can skip it."
   ]
  },
  {
   "cell_type": "code",
   "execution_count": null,
   "metadata": {
    "id": "jcJlsgcWpXkM"
   },
   "outputs": [],
   "source": [
    "E1 = 0.01 # MeV\n",
    "E2 = 20. # MeV\n",
    "units = 'gcm2'\n",
    "energy_range = np.logspace(np.log10(E1), np.log10(E2), num=150) # 150 points in a log-scale E(MeV) between E1 and E2\n",
    "medium.plot_R(energies=energy_range, units = units)\n",
    "medium2.plot_R(energies=energy_range, l_style=':', units = units)"
   ]
  },
  {
   "cell_type": "markdown",
   "metadata": {
    "id": "4baNPkd-hNkR"
   },
   "source": [
    "## Construction of the medium II: Geometry"
   ]
  },
  {
   "cell_type": "markdown",
   "metadata": {
    "id": "QWEfDqSAUmYq"
   },
   "source": [
    "Several geometries are available.\n",
    "\n",
    "\n",
    "\n"
   ]
  },
  {
   "cell_type": "markdown",
   "metadata": {
    "id": "z19PCvmQBt73"
   },
   "source": [
    "### Cylinder\n",
    "\n",
    "\n",
    "\n"
   ]
  },
  {
   "cell_type": "markdown",
   "metadata": {
    "id": "bBc-7XbDqUNS"
   },
   "source": [
    "Cylinder oriented with its axis along the z axis and its base at z=0. You have to provide:\n",
    "- z (cm): height.\n",
    "- r or diam (cm): radius or diameter."
   ]
  },
  {
   "cell_type": "markdown",
   "metadata": {
    "id": "MD8zBO1Wywzg"
   },
   "source": [
    "For this geometry, you may choose either cylindrical or cartesian voxelization of the energy deposit matrix. Cylindrical voxelization is appropriate for vertical parallel beams along the z axis and isotropic sources located at the z axis. In this case, you have to input the number of intervals along the coordinates r and z:\n",
    "\n",
    "- n_r.\n",
    "- n_z.\n",
    "\n",
    "Cartesian voxelization can also be applied in any situation and medium geometry. Here, you have to provide:\n",
    "\n",
    "- n_x.\n",
    "- n_y.\n",
    "- n_z.\n",
    "\n",
    "Choose your option and construct the geometry.\n"
   ]
  },
  {
   "cell_type": "code",
   "execution_count": null,
   "metadata": {
    "id": "xg_NkIl5SfM2"
   },
   "outputs": [],
   "source": [
    "geometry = lpy.Geometry(name='cylinder', z=.2, r=.1, n_z=50, n_r=1) # Cylindrical voxelization\n",
    "#geometry = lpy.Geometry(name='cylinder', z=.3, r=.2, n_x=10, n_y=10, n_z=10) # Cartesian voxelization"
   ]
  },
  {
   "cell_type": "markdown",
   "metadata": {
    "id": "Hzj1Nd_XWNqB"
   },
   "source": [
    "### Orthohedron"
   ]
  },
  {
   "cell_type": "markdown",
   "metadata": {
    "id": "sj4xnK6uy6fy"
   },
   "source": [
    "Rectangular parallelepiped oriented with its longitudinal axes parallel to the x, y, z axes. The center of bottom side is assumed to be at the origin of coordinates. In this geometry, only the cartesian voxelization is supported. You have to provide the dimensions of the orthohedron and the number of intervals along each axis:\n",
    "\n",
    "- x (cm).\n",
    "- y (cm).\n",
    "- z (cm).\n",
    "- n_x.\n",
    "- n_y.\n",
    "- n_z."
   ]
  },
  {
   "cell_type": "code",
   "execution_count": null,
   "metadata": {
    "id": "6R4XvE8gDsgt"
   },
   "outputs": [],
   "source": [
    "geometry = lpy.Geometry(name='orthohedron', x=.1, y=.1, z=.1, n_x=10, n_y=10, n_z=10)"
   ]
  },
  {
   "cell_type": "markdown",
   "metadata": {
    "id": "ctlYVumbYCCo"
   },
   "source": [
    "### Sphere\n",
    "\n",
    "\n",
    "\n"
   ]
  },
  {
   "cell_type": "markdown",
   "metadata": {
    "id": "Kv3HZ51rYIwe"
   },
   "source": [
    "Sphere centered at (0,0,0). Both cartesian and spherical voxelization can be chosen. So you have to provide either: \n",
    "\n",
    "- r or diam (cm).\n",
    "- n_r.\n",
    "\n",
    "Or:\n",
    "\n",
    "- r (cm).\n",
    "- n_x.\n",
    "- n_y.\n",
    "- n_z."
   ]
  },
  {
   "cell_type": "code",
   "execution_count": null,
   "metadata": {
    "id": "fQSk-0dqYtKd"
   },
   "outputs": [],
   "source": [
    "#geometry = lpy.Geometry(name='sphere', r=.15, n_r=15) # Spherical voxelization\n",
    "geometry = lpy.Geometry(name='sphere', diam=.1, n_x=10, n_y=10, n_z=10) # Cartesian voxelization"
   ]
  },
  {
   "cell_type": "markdown",
   "metadata": {
    "id": "ioqRp_pWZXEh"
   },
   "source": [
    "## Plot the geometry\n"
   ]
  },
  {
   "cell_type": "markdown",
   "metadata": {
    "id": "d0kuAxnRazD9"
   },
   "source": [
    "Plot the geometry in the reference coordinate system. This step is optional."
   ]
  },
  {
   "cell_type": "code",
   "execution_count": null,
   "metadata": {
    "id": "oFLFtkX9hNkT"
   },
   "outputs": [],
   "source": [
    "geometry.plot();"
   ]
  },
  {
   "cell_type": "markdown",
   "metadata": {
    "id": "RMgOPU02hNkU"
   },
   "source": [
    "## Construction of the beam I:  Energy spectrum"
   ]
  },
  {
   "cell_type": "markdown",
   "metadata": {
    "id": "alKKo0ErcHmv"
   },
   "source": [
    "The user has to select one of the following options:"
   ]
  },
  {
   "cell_type": "markdown",
   "metadata": {
    "id": "ElTUCsPicN9g"
   },
   "source": [
    "\n",
    "\n",
    "### Monoenergetic\n",
    "\n"
   ]
  },
  {
   "cell_type": "markdown",
   "metadata": {
    "id": "sfi5hy6UhYjZ"
   },
   "source": [
    "Input parameters:\n",
    "- E (MeV)."
   ]
  },
  {
   "cell_type": "code",
   "execution_count": null,
   "metadata": {
    "id": "uq1Ja2EzceUk"
   },
   "outputs": [],
   "source": [
    "spectrum = lpy.Spectrum(name = 'mono', E = 1.)"
   ]
  },
  {
   "cell_type": "markdown",
   "metadata": {
    "id": "TWfX_KuhcmDC"
   },
   "source": [
    "### Multi-monoenergetic\n",
    "\n",
    "\n"
   ]
  },
  {
   "cell_type": "markdown",
   "metadata": {
    "id": "hCdDmNovhuJj"
   },
   "source": [
    "Input parameters:\n",
    "- E_w: energies (MeV) and their corresponding weights in a numpy array (sum of weights must be 1)."
   ]
  },
  {
   "cell_type": "code",
   "execution_count": null,
   "metadata": {
    "id": "bAP7MlLqdKnN"
   },
   "outputs": [],
   "source": [
    "E_w = np.array([[0.511, .80], [1.25, 0.20]]) # [[E1, w1], [E2, w2],....]\n",
    "spectrum = lpy.Spectrum(name = 'multi_mono', E_w = E_w)"
   ]
  },
  {
   "cell_type": "markdown",
   "metadata": {
    "id": "QFByI27SdiWU"
   },
   "source": [
    "\n",
    "\n",
    "### Flat\n",
    "\n",
    "\n",
    "\n"
   ]
  },
  {
   "cell_type": "markdown",
   "metadata": {
    "id": "Aa3ot_kwiITJ"
   },
   "source": [
    "Input parameters:\n",
    "- E_min (MeV).\n",
    "- E_max (MeV)."
   ]
  },
  {
   "cell_type": "code",
   "execution_count": null,
   "metadata": {
    "id": "2to4vC6YeN1q"
   },
   "outputs": [],
   "source": [
    "spectrum = lpy.Spectrum(name = 'flat', E_min = 0.1, E_max = 1.0)"
   ]
  },
  {
   "cell_type": "markdown",
   "metadata": {
    "id": "SlBr3spZegV7"
   },
   "source": [
    "\n",
    "\n",
    "### Gaussian profile.\n",
    "\n",
    "\n",
    "\n"
   ]
  },
  {
   "cell_type": "markdown",
   "metadata": {
    "id": "2NDOyGW5iRTx"
   },
   "source": [
    "Input parameters: \n",
    "- E_mean (MeV).\n",
    "- E_sigma (MeV).\n",
    "\n",
    "Internal cut: 2 x E_mean > E > 0."
   ]
  },
  {
   "cell_type": "code",
   "execution_count": null,
   "metadata": {
    "id": "THzC4uRUe46j"
   },
   "outputs": [],
   "source": [
    "spectrum = lpy.Spectrum(name = 'gaussian', E_mean = 0.5, E_sigma = 0.03)"
   ]
  },
  {
   "cell_type": "markdown",
   "metadata": {
    "id": "Nvy01AJYepFV"
   },
   "source": [
    "\n",
    "\n",
    "### Exponential \n",
    "\n",
    "\n"
   ]
  },
  {
   "cell_type": "markdown",
   "metadata": {
    "id": "wRtmtrwpifb6"
   },
   "source": [
    "\n",
    "$I(E) \\propto  e^{-E/E_{ch}}$, with E_min < E < E_max.\n",
    "\n",
    "Input parameters: \n",
    "\n",
    "- E_min (MeV).\n",
    "- E_max (MeV).\n",
    "- E_ch (MeV)."
   ]
  },
  {
   "cell_type": "code",
   "execution_count": null,
   "metadata": {
    "id": "nShl5yRDfi50"
   },
   "outputs": [],
   "source": [
    "spectrum = lpy.Spectrum(name = 'exponential', E_min = 0.1, E_max = 1.0, E_ch = 0.5)"
   ]
  },
  {
   "cell_type": "markdown",
   "metadata": {
    "id": "oSNwzgeJelu4"
   },
   "source": [
    "\n",
    "\n",
    "### Reciprocal\n",
    "\n",
    "\n"
   ]
  },
  {
   "cell_type": "markdown",
   "metadata": {
    "id": "oyiaVZ9Xirbn"
   },
   "source": [
    "$ I(E) \\propto \\frac{1}{E} $, with E_min < E < E_max.\n",
    "\n",
    "Input parameters:\n",
    "- E_min (MeV).\n",
    "- E_max (MeV)."
   ]
  },
  {
   "cell_type": "code",
   "execution_count": null,
   "metadata": {
    "id": "-liB0ZZgf5Gf"
   },
   "outputs": [],
   "source": [
    "spectrum = lpy.Spectrum(name = 'reciprocal', E_min = 0.01, E_max = 15.)"
   ]
  },
  {
   "cell_type": "markdown",
   "metadata": {
    "id": "Pze164hHejOV"
   },
   "source": [
    "\n",
    "\n",
    "### From a file\n",
    "\n",
    "\n",
    "\n",
    "\n"
   ]
  },
  {
   "cell_type": "markdown",
   "metadata": {
    "id": "8jXnDDzRjEtV"
   },
   "source": [
    "The input file must have two columns:\n",
    "\n",
    "Energy (MeV)   ------   Relative Intensity (au)"
   ]
  },
  {
   "cell_type": "markdown",
   "metadata": {
    "id": "gIr8_kUY24O5"
   },
   "source": [
    "An example file is at LegPy/beam_spectra/example.txt. To use this file, just input file='example.txt'. If you want to use your own txt file, you should copy it to the same directory that this notebook is (or to load it to the current Colab session)."
   ]
  },
  {
   "cell_type": "code",
   "execution_count": null,
   "metadata": {
    "id": "twadoIsqO8v4"
   },
   "outputs": [],
   "source": [
    "spectrum = lpy.Spectrum(name = 'from_file', file = 'example.txt')"
   ]
  },
  {
   "cell_type": "markdown",
   "metadata": {
    "id": "xUhWwRffhCes"
   },
   "source": [
    "## Plot the spectrum\n",
    "\n",
    "\n",
    "\n",
    "\n",
    "\n"
   ]
  },
  {
   "cell_type": "markdown",
   "metadata": {
    "id": "kBUnKUoqjjfF"
   },
   "source": [
    "You can plot the energy spectrum of incident beam. Again, just to check it is OK.\n",
    "\n",
    "A number of electrons are generated randomly following the requested spectrum in logaritmic scale in the range 0.001 - 20 MeV. You should input:\n",
    "- n_part : number of particles, default to 10^5.\n",
    "- n_bin : number of intervals, default to 50."
   ]
  },
  {
   "cell_type": "code",
   "execution_count": null,
   "metadata": {
    "id": "nyFE-jCvhNkW"
   },
   "outputs": [],
   "source": [
    "spectrum.plot(n_part = 100000, n_bin = 50)"
   ]
  },
  {
   "cell_type": "markdown",
   "metadata": {
    "id": "ZoKl1zjohNkX"
   },
   "source": [
    "## Construction of the beam II:  Geometry"
   ]
  },
  {
   "cell_type": "markdown",
   "metadata": {
    "id": "7kWebZ6CHH6X"
   },
   "source": [
    "The user has to select one of the following options:\n",
    "\n",
    "NOTE: In order not to waste computing time the beam geometry has to be defined in such a way that all particles reach the medium."
   ]
  },
  {
   "cell_type": "markdown",
   "metadata": {
    "id": "GUgNKbLZlRbp"
   },
   "source": [
    "### Parallel beam"
   ]
  },
  {
   "cell_type": "markdown",
   "metadata": {
    "id": "KtTGumdNmGlu"
   },
   "source": [
    "Parallel beam with entrance plane perpendicular to z axis. In general not applicable for the sphere. \n",
    "\n",
    "Input parameters:\n",
    "\n",
    "- particle = 'electron'\n",
    "- theta (degrees) : zenith angle from z axis, default to 0.\n",
    "- phi (degrees) : azimuth angle from x axis, default to 0.\n",
    "- p_in (cm) : coordinates of the center of the beam cross section at the entrance plane in a numpy array, default to (0,0,0).\n",
    "- diam (cm) : beam diameter, default to 0. (i.e., pencil beam)."
   ]
  },
  {
   "cell_type": "code",
   "execution_count": null,
   "metadata": {
    "id": "nZBzLDafmpPQ"
   },
   "outputs": [],
   "source": [
    "beam = lpy.Beam(particle='electron', name = 'parallel')\n",
    "#beam = lpy.Beam(name = 'parallel', theta = 15.0, phi = 30.0, p_in = np.array([0.1, -0.1, 0.0]))\n",
    "#beam = lpy.Beam(name = 'parallel', theta = 19.0, phi = 30.0)"
   ]
  },
  {
   "cell_type": "markdown",
   "metadata": {
    "id": "TXmzG5rKlq0-"
   },
   "source": [
    "### Isotropic source / Divergent beam"
   ]
  },
  {
   "cell_type": "markdown",
   "metadata": {
    "id": "KtTGumdNmGlu"
   },
   "source": [
    "Three options are available:"
   ]
  },
  {
   "cell_type": "markdown",
   "metadata": {
    "id": "KtTGumdNmGlu"
   },
   "source": [
    "1) Isotropic **source** located **inside the medium**."
   ]
  },
  {
   "cell_type": "markdown",
   "metadata": {},
   "source": [
    "Input parameters:\n",
    "- p_in: source location (cm). Default to (0,0,0)"
   ]
  },
  {
   "cell_type": "code",
   "execution_count": null,
   "metadata": {},
   "outputs": [],
   "source": [
    "x, y, z = 0.03, -0.03, 0.05 # cm \n",
    "beam = lpy.Beam(particle='electron', name = 'isotropic', p_in = np.array ([x, y, z]))\n",
    "#beam = lpy.Beam(name = 'isotropic')"
   ]
  },
  {
   "cell_type": "markdown",
   "metadata": {
    "id": "KtTGumdNmGlu"
   },
   "source": [
    "2) Isotropic **source** located **outside the medium**. Not applicable for the sphere. "
   ]
  },
  {
   "cell_type": "markdown",
   "metadata": {},
   "source": [
    "Input parameters:\n",
    "- p_in(cm): coordinates of the source location below the XY plane (z<0). Default to x=y=0 (source on the z axis). Small (x,y) values are also possible but might increase the computing time. \n",
    "- size of the entrance aperture located on the XY plane, centered at (0,0):\n",
    "    - if circular, provide diameter (cm)\n",
    "    - if rectangular, provide x_ap, y_ap (cm) size"
   ]
  },
  {
   "cell_type": "code",
   "execution_count": null,
   "metadata": {},
   "outputs": [],
   "source": [
    "z = 1. # cm \n",
    "x, y = 0.02, -0.01 # cm\n",
    "beam = lpy.Beam(particle='electron', name = 'isotropic', diam = .01, p_in = np.array ([x, y, -z]))\n",
    "#beam = lpy.Beam(name = 'isotropic', x_ap = 1., y_ap = 0.5, p_in = np.array ([0., 0., -z]))"
   ]
  },
  {
   "cell_type": "markdown",
   "metadata": {
    "id": "KtTGumdNmGlu"
   },
   "source": [
    "3) **Divergent beam** with the focus located on the z(<0) axis. Not applicable for the sphere. "
   ]
  },
  {
   "cell_type": "markdown",
   "metadata": {},
   "source": [
    "Input parameters:\n",
    "\n",
    "- p_in(cm): coordinates of the focus location below the XY plane (z<0). Default to x=y=0 (source on the z axis). Small (x,y) values are also possible but might increase the computing time.      \n",
    "- size of the field located on the XY plane, centered at (0,0):\n",
    "    - if circular, provide diameter (cm)\n",
    "    - if rectangular, provide x_ap, y_ap (cm) size"
   ]
  },
  {
   "cell_type": "code",
   "execution_count": null,
   "metadata": {},
   "outputs": [],
   "source": [
    "z = .025 # cm \n",
    "diam = .01 # cm\n",
    "beam = lpy.Beam(particle='electron', name = 'isotropic', diam = diam, p_in = np.array ([0., 0., -z]))"
   ]
  },
  {
   "cell_type": "markdown",
   "metadata": {
    "id": "pLaOZ3pWEKlX"
   },
   "source": [
    "### Plot a few tracks\n"
   ]
  },
  {
   "cell_type": "markdown",
   "metadata": {
    "id": "5lnvTX95EaN_"
   },
   "source": [
    "Check a few (50) electron tracks into the medium with the geometry you have just constructed "
   ]
  },
  {
   "cell_type": "code",
   "execution_count": null,
   "metadata": {},
   "outputs": [],
   "source": [
    "lpy.Plot_beam(medium, geometry, spectrum, beam)"
   ]
  },
  {
   "cell_type": "markdown",
   "metadata": {
    "id": "jNfsfv73E3CV"
   },
   "source": [
    "## Monte Carlo Simulation\n"
   ]
  },
  {
   "cell_type": "markdown",
   "metadata": {
    "id": "iCnVe-ia4Uy3"
   },
   "source": [
    "It transports the electron beam (defined by the objects \"spectrum\" and \"beam\") through the medium (defined by the objects \"medium\" and \"geometry\").\n",
    "\n",
    "**Input**\n",
    "\n",
    "Parameters to be provided: \n",
    "\n",
    "1.   **n_part**: number of beam electrons. Default is *n_part = 1000*.\n",
    "2.   **E_cut** : Energy cut in MeV. Default is *E_cut = 0.01 MeV*.\n",
    "3.   **n_ang**, **n_z** : Number of angular and z intervals to construct histograms. Default is 20 for both parameters.\n",
    "4.   **e_length**, **e_K** : The electron transport is performed by steps of either same length (e_length) or same energy loss fraction (e_K). By default, e_length is obtained from the voxel size, but these parameters may also be specified, if desired. The parameter e_length is in $\\mu$m.\n",
    "5.   **tracks** : Plot tracks (not advised for > 100 particles). Default is *tracks = False*.\n",
    "\n",
    "**Return** \n",
    "\n",
    "An object (dubbed **result**) containing the spatial distribution of deposited energy, the histogram of electron ranges and the angular histogram of backscattered electrons. Once this object is generated, this information can be plotted or stored in files (see examples below)."
   ]
  },
  {
   "cell_type": "code",
   "execution_count": null,
   "metadata": {
    "id": "O-1Ogy8ZhNkY",
    "scrolled": true
   },
   "outputs": [],
   "source": [
    "result = lpy.MC(medium, geometry, spectrum, beam, n_part = 100, n_z=50)"
   ]
  },
  {
   "cell_type": "markdown",
   "metadata": {
    "id": "jNfsfv73E3CV"
   },
   "source": [
    "## Examples"
   ]
  },
  {
   "cell_type": "code",
   "execution_count": null,
   "metadata": {},
   "outputs": [],
   "source": [
    "import LegPy as lpy\n",
    "import numpy as np\n",
    "import matplotlib.pyplot as plt"
   ]
  },
  {
   "cell_type": "markdown",
   "metadata": {},
   "source": [
    "### 1) Display of electron tracks (only) ###"
   ]
  },
  {
   "cell_type": "code",
   "execution_count": null,
   "metadata": {},
   "outputs": [],
   "source": [
    "medium = lpy.Medium(name='Al')\n",
    "geometry = lpy.Geometry(name='orthohedron', x =.2, y = 0.2, z=.2, n_x=30, n_y=30, n_z=100)\n",
    "spectrum = lpy.Spectrum(name='mono', E = 1.)\n",
    "beam = lpy.Beam(particle='electron', name='parallel', theta=30.0, phi=20.0, diam=.02, p_in=(-0.03, 0., 0.))\n",
    "lpy.Plot_beam(medium, geometry, spectrum, beam, n_part=50)\n",
    "#Alternative:\n",
    "#result = lpy.MC(medium, geometry, spectrum, beam, n_part=50, tracks=True)"
   ]
  },
  {
   "cell_type": "markdown",
   "metadata": {},
   "source": [
    "### 2) Electron range and backscattering studies ###"
   ]
  },
  {
   "cell_type": "markdown",
   "metadata": {},
   "source": [
    "First, check the CSDA range for an appropriate choice of the size of the medium and the e_length (e_K) parameters   "
   ]
  },
  {
   "cell_type": "code",
   "execution_count": null,
   "metadata": {},
   "outputs": [],
   "source": [
    "E = 1.0 #MeV\n",
    "spectrum = lpy.Spectrum(name='mono', E=E)\n",
    "medium = lpy.Medium(name='Al') # NIST\n",
    "e_data = medium.e_data\n",
    "CSDA = np.interp(E, e_data.E_ref, e_data.R_ref) # cm\n",
    "CSDAum = CSDA * 1.e4 # um\n",
    "print('CSDA = ', round(CSDA, 3), 'cm')\n",
    "#"
   ]
  },
  {
   "cell_type": "markdown",
   "metadata": {},
   "source": [
    "A step length of CSDA/100 (or e_K = 0.95) should be enough to get accurate results"
   ]
  },
  {
   "cell_type": "code",
   "execution_count": null,
   "metadata": {},
   "outputs": [],
   "source": [
    "e_length = CSDAum * 0.01 # um (1/100 of CSDA)\n",
    "#e_K = 0.95"
   ]
  },
  {
   "cell_type": "code",
   "execution_count": null,
   "metadata": {},
   "outputs": [],
   "source": [
    "geometry = lpy.Geometry(name='cylinder', diam=.25, z=.25, n_x=30, n_y=30, n_z=100)\n",
    "beam = lpy.Beam(particle = 'electron', name='parallel')\n",
    "n_part = 5000\n",
    "result = lpy.MC(medium, geometry, spectrum, beam, n_part=n_part, n_z=50, e_length=e_length)"
   ]
  },
  {
   "cell_type": "code",
   "execution_count": null,
   "metadata": {},
   "outputs": [],
   "source": [
    "result.plot_hists()"
   ]
  },
  {
   "cell_type": "markdown",
   "metadata": {},
   "source": [
    "#### 2.1) Electron range ####"
   ]
  },
  {
   "cell_type": "markdown",
   "metadata": {},
   "source": [
    "Depending on the practical case, two different definitions of electron range R are used:\n",
    "\n",
    "- The depth z of the electron at the end of its path. This definition is used for the first histogram of the above figure.\n",
    "- The maximum depth reached by the electron. This definition is associated to the transmission curve obtained experimentally when the number of electrons traversing layers of several depths z are measured and is used for the second histogram of the above figure.\n",
    "\n",
    "Differences between both ranges might be non-negligible in cases with strong backscattering.  "
   ]
  },
  {
   "cell_type": "markdown",
   "metadata": {},
   "source": [
    "Both definitions of range can be computed and stored in a dataframe with three components: x = R(cm), y = number of electrons, z = fraction of electrons.\n",
    "\n",
    "Check its shape"
   ]
  },
  {
   "cell_type": "code",
   "execution_count": null,
   "metadata": {},
   "outputs": [],
   "source": [
    "range_df = result.final_z()\n",
    "#range_df = result.max_z()\n",
    "range_df.head()"
   ]
  },
  {
   "cell_type": "markdown",
   "metadata": {},
   "source": [
    "Plot of R distribution and the corresponding integral function of the electron fraction vs R in either definition. Similar to to the plots obtained above but you can personalized them.  "
   ]
  },
  {
   "cell_type": "code",
   "execution_count": null,
   "metadata": {},
   "outputs": [],
   "source": [
    "range_df.plot(kind='scatter', x=0, y=1);\n",
    "range_df.plot(kind='scatter', x=0, y=2);"
   ]
  },
  {
   "cell_type": "markdown",
   "metadata": {},
   "source": [
    "Calculation of the **extrapolated range** and other parameters "
   ]
  },
  {
   "cell_type": "code",
   "execution_count": null,
   "metadata": {},
   "outputs": [],
   "source": [
    "ext_R, mode, av = lpy.ext_range(range_df)"
   ]
  },
  {
   "cell_type": "markdown",
   "metadata": {},
   "source": [
    "This funcion is also incorporated in the result object. The range definition should be set to \"final\" (default) or \"max\"."
   ]
  },
  {
   "cell_type": "code",
   "execution_count": null,
   "metadata": {},
   "outputs": [],
   "source": [
    "ext_R, mode, av = result.ext_range(definition=\"max\")"
   ]
  },
  {
   "cell_type": "markdown",
   "metadata": {},
   "source": [
    "#### 2.1) Electron Backscattering ####"
   ]
  },
  {
   "cell_type": "markdown",
   "metadata": {},
   "source": [
    "The angle distribution of backscattered electrons can be computed and stored in a dataframe."
   ]
  },
  {
   "cell_type": "code",
   "execution_count": null,
   "metadata": {},
   "outputs": [],
   "source": [
    "back = result.backscattering()\n",
    "back"
   ]
  },
  {
   "cell_type": "markdown",
   "metadata": {},
   "source": [
    "The backscattering coefficiente, b, is the fraction of backscattered electrons. "
   ]
  },
  {
   "cell_type": "code",
   "execution_count": null,
   "metadata": {},
   "outputs": [],
   "source": [
    "b = back.sum()[1]/n_part\n",
    "print('b = ', round(100.*b, 2), '%')"
   ]
  },
  {
   "cell_type": "markdown",
   "metadata": {},
   "source": [
    "Plot the angular distribution of backscattered electrons"
   ]
  },
  {
   "cell_type": "code",
   "execution_count": null,
   "metadata": {},
   "outputs": [],
   "source": [
    "back.plot(kind='scatter', x=0, y=2);"
   ]
  },
  {
   "cell_type": "markdown",
   "metadata": {},
   "source": [
    "### 3) Energy deposition ###"
   ]
  },
  {
   "cell_type": "markdown",
   "metadata": {},
   "source": [
    "#### 3.1) Cylindrical symmetry   ####"
   ]
  },
  {
   "cell_type": "code",
   "execution_count": null,
   "metadata": {},
   "outputs": [],
   "source": [
    "medium = lpy.Medium(name='Al')\n",
    "geometry = lpy.Geometry(name='cylinder', r =.2, z=.2, n_r=20, n_z=20)\n",
    "spectrum = lpy.Spectrum(name='mono', E=1.)\n",
    "beam = lpy.Beam(particle='electron', name='parallel', diam=0.02)\n",
    "result = lpy.MC(medium, geometry, spectrum, beam, n_part=50000)"
   ]
  },
  {
   "cell_type": "code",
   "execution_count": null,
   "metadata": {},
   "outputs": [],
   "source": [
    "result.plot_Edep()"
   ]
  },
  {
   "cell_type": "markdown",
   "metadata": {},
   "source": [
    "The spatial distribution of energy deposit can be stored in an excel file or a dataframe. Note that results are averaged over  axial angle"
   ]
  },
  {
   "cell_type": "code",
   "execution_count": null,
   "metadata": {},
   "outputs": [],
   "source": [
    "#result.Edep_to_excel(\"my_excel\")\n",
    "Edep_df = result.Edep_to_df()\n",
    "Edep_df"
   ]
  },
  {
   "cell_type": "markdown",
   "metadata": {},
   "source": [
    "#### 3.2) Cartesian symmetry   ####"
   ]
  },
  {
   "cell_type": "code",
   "execution_count": null,
   "metadata": {},
   "outputs": [],
   "source": [
    "medium = lpy.Medium(name='Al')\n",
    "geometry = lpy.Geometry(name='cylinder', r=0.2, z=0.2, n_x=40, n_y=40, n_z=20)\n",
    "spectrum = lpy.Spectrum(name='mono', E=1.)\n",
    "beam = lpy.Beam(particle='electron', name='parallel', diam=0.02)\n",
    "result = lpy.MC(medium, geometry, spectrum, beam, n_part=50000)"
   ]
  },
  {
   "cell_type": "code",
   "execution_count": null,
   "metadata": {},
   "outputs": [],
   "source": [
    "result.plot_Edep()"
   ]
  },
  {
   "cell_type": "markdown",
   "metadata": {},
   "source": [
    "The spatial distribution of energy deposit is 3d. This cannot be stored in an excel file or a dataframe, but it is stored in a matrix within the result object generated by MC.\n",
    "\n",
    "This matrix can also be stored in a binary file with extension .npy for later use (also available for the other geometries)."
   ]
  },
  {
   "cell_type": "code",
   "execution_count": null,
   "metadata": {},
   "outputs": [],
   "source": [
    "#result.Edep_to_npy(\"my_file\") # the default name is the name of the medium"
   ]
  },
  {
   "cell_type": "markdown",
   "metadata": {},
   "source": [
    "Total energy deposited in the medium"
   ]
  },
  {
   "cell_type": "code",
   "execution_count": null,
   "metadata": {},
   "outputs": [],
   "source": [
    "Vp = geometry.delta_v # pixel volume (cm^3)\n",
    "Ed = result.Edep.sum() * Vp\n",
    "print('total energy deposit =', round(Ed, 3), 'keV')"
   ]
  },
  {
   "cell_type": "markdown",
   "metadata": {},
   "source": [
    "Personalized plots of the spatial distribution of Edep can be done with this tool:  "
   ]
  },
  {
   "cell_type": "code",
   "execution_count": null,
   "metadata": {},
   "outputs": [],
   "source": [
    "z_ind = [0, 4, 9, 13, 16] # index of z layers. \n",
    "prof_lev = [3.5, 4., 5., 6., 7.] # dosis levels (adjust according the color bar)\n",
    "result.plot_Edep_layers(axis=\"z\", indexes=z_ind, c_profiles=True, lev=prof_lev)"
   ]
  },
  {
   "cell_type": "code",
   "execution_count": null,
   "metadata": {},
   "outputs": [],
   "source": [
    "x_ind = [4, 14, 20, 30, 35] # index of z layers. \n",
    "prof_lev = [3.5, 4., 5., 6., 7.] # dosis levels (adjust according the color bar)\n",
    "result.plot_Edep_layers(axis=\"x\", indexes=x_ind, c_profiles=True, lev=prof_lev)"
   ]
  },
  {
   "cell_type": "markdown",
   "metadata": {},
   "source": [
    "### 4) Backscattered energy ###"
   ]
  },
  {
   "cell_type": "markdown",
   "metadata": {},
   "source": [
    "Similar to the above case (both cylndrical or cartesian voxelization) but forcing the electron beam to start its path in some point inside the medium     "
   ]
  },
  {
   "cell_type": "markdown",
   "metadata": {},
   "source": [
    "#### 4.1) Cylindrical symmetry   ####"
   ]
  },
  {
   "cell_type": "code",
   "execution_count": null,
   "metadata": {},
   "outputs": [],
   "source": [
    "medium = lpy.Medium(name='Al')\n",
    "geometry = lpy.Geometry(name='cylinder', r=.2, z=.30, n_r=20, n_z=30)\n",
    "spectrum = lpy.Spectrum(name='mono', E=1.)\n",
    "beam = lpy.Beam(particle='electron', name='parallel', diam=0.02, p_in=np.array([0., 0., 0.1]))\n",
    "result = lpy.MC(medium, geometry, spectrum, beam, n_part=50000)"
   ]
  },
  {
   "cell_type": "code",
   "execution_count": null,
   "metadata": {},
   "outputs": [],
   "source": [
    "result.plot_Edep()"
   ]
  },
  {
   "cell_type": "markdown",
   "metadata": {},
   "source": [
    "#### 4.2) Cartesian symmetry   ####"
   ]
  },
  {
   "cell_type": "code",
   "execution_count": null,
   "metadata": {},
   "outputs": [],
   "source": [
    "medium = lpy.Medium(name='Al')\n",
    "geometry = lpy.Geometry(name='cylinder', r=0.2, z=0.3, n_x=40, n_y=40, n_z=30)\n",
    "spectrum = lpy.Spectrum(name='mono', E=1.)\n",
    "beam = lpy.Beam(particle='electron', name='parallel', diam=0.02, p_in=np.array([0., 0., 0.1]))\n",
    "result = lpy.MC(medium, geometry, spectrum, beam, n_part=50000)"
   ]
  },
  {
   "cell_type": "code",
   "execution_count": null,
   "metadata": {},
   "outputs": [],
   "source": [
    "result.plot_Edep()"
   ]
  },
  {
   "cell_type": "markdown",
   "metadata": {},
   "source": [
    "Personalized plots of the spatial distribution of Edep can be done with this tool:  "
   ]
  },
  {
   "cell_type": "code",
   "execution_count": null,
   "metadata": {},
   "outputs": [],
   "source": [
    "z_ind = [4, 9, 10, 13, 25] # index of z layers. \n",
    "prof_lev = [3.5, 4., 5., 6., 7.] # dosis levels (adjust according the color bar)\n",
    "result.plot_Edep_layers(axis=\"z\", indexes=z_ind, c_profiles=True, lev=prof_lev)"
   ]
  },
  {
   "cell_type": "code",
   "execution_count": null,
   "metadata": {},
   "outputs": [],
   "source": [
    "x_ind = [4, 14, 20, 30, 35] # index of z layers. \n",
    "prof_lev = [3.5, 4., 5., 6., 7.] # dosis levels (adjust according the color bar)\n",
    "result.plot_Edep_layers(axis=\"x\", indexes=x_ind, c_profiles=True, lev=prof_lev)"
   ]
  },
  {
   "cell_type": "markdown",
   "metadata": {},
   "source": [
    "The energy deposited at z < z_in is the backscattered energy."
   ]
  },
  {
   "cell_type": "code",
   "execution_count": null,
   "metadata": {},
   "outputs": [],
   "source": [
    "Vp = geometry.delta_v # pixel volume (cm^3)\n",
    "Edep = result.Edep\n",
    "Ed = Edep.sum() * Vp #total Edep\n",
    "Eb = Edep[:, :, 0:10].sum() * Vp #back Edep\n",
    "Ef = Edep[:, :, 10:30].sum() * Vp #for Edep\n",
    "\n",
    "print('Fraction of backsacttered energy =', round(100. * Eb / Ed, 2), '%')"
   ]
  },
  {
   "cell_type": "code",
   "execution_count": null,
   "metadata": {},
   "outputs": [],
   "source": []
  }
 ],
 "metadata": {
  "colab": {
   "collapsed_sections": [
    "oSNwzgeJelu4"
   ],
   "name": "LegPy.ipynb",
   "provenance": [],
   "toc_visible": true
  },
  "kernelspec": {
   "display_name": "Python 3",
   "language": "python",
   "name": "python3"
  },
  "language_info": {
   "codemirror_mode": {
    "name": "ipython",
    "version": 3
   },
   "file_extension": ".py",
   "mimetype": "text/x-python",
   "name": "python",
   "nbconvert_exporter": "python",
   "pygments_lexer": "ipython3",
   "version": "3.8.5"
  }
 },
 "nbformat": 4,
 "nbformat_minor": 1
}
